{
  "nbformat": 4,
  "nbformat_minor": 0,
  "metadata": {
    "colab": {
      "name": "Untitled7.ipynb",
      "provenance": [],
      "collapsed_sections": [],
      "authorship_tag": "ABX9TyNPBrhpkD+eX3DZwLvna9kS",
      "include_colab_link": true
    },
    "kernelspec": {
      "name": "python3",
      "display_name": "Python 3"
    },
    "accelerator": "TPU"
  },
  "cells": [
    {
      "cell_type": "markdown",
      "metadata": {
        "id": "view-in-github",
        "colab_type": "text"
      },
      "source": [
        "<a href=\"https://colab.research.google.com/github/Rohsha/Datascience/blob/master/sberbank-russian-housing-market(dataset2).ipynb\" target=\"_parent\"><img src=\"https://colab.research.google.com/assets/colab-badge.svg\" alt=\"Open In Colab\"/></a>"
      ]
    },
    {
      "cell_type": "code",
      "metadata": {
        "id": "9cx5kcbSJWwL",
        "colab_type": "code",
        "outputId": "7ece0dd3-9c37-458c-d86b-4237586e00e4",
        "colab": {
          "base_uri": "https://localhost:8080/",
          "height": 289
        }
      },
      "source": [
        "#second data set\n",
        "import os\n",
        "\n",
        "os.environ['KAGGLE_USERNAME'] = \"rohinisubramaniam\" # username from the json file\n",
        "\n",
        "os.environ['KAGGLE_KEY'] = \"22aa1922fcaa2f5e066336187cf441b4\" # key from the json file\n",
        "\n",
        "!kaggle competitions download -c sberbank-russian-housing-market\n"
      ],
      "execution_count": 0,
      "outputs": [
        {
          "output_type": "stream",
          "text": [
            "Warning: Looks like you're using an outdated API Version, please consider updating (server 1.5.6 / client 1.5.4)\n",
            "Downloading test.csv.zip to /content\n",
            "  0% 0.00/4.46M [00:00<?, ?B/s]\n",
            "100% 4.46M/4.46M [00:00<00:00, 73.2MB/s]\n",
            "Downloading train.csv.zip to /content\n",
            " 53% 9.00M/17.1M [00:00<00:00, 13.4MB/s]\n",
            "100% 17.1M/17.1M [00:00<00:00, 25.0MB/s]\n",
            "Downloading sample_submission.csv.zip to /content\n",
            "  0% 0.00/18.6k [00:00<?, ?B/s]\n",
            "100% 18.6k/18.6k [00:00<00:00, 19.1MB/s]\n",
            "Downloading data_dictionary.txt to /content\n",
            "  0% 0.00/25.4k [00:00<?, ?B/s]\n",
            "100% 25.4k/25.4k [00:00<00:00, 24.9MB/s]\n",
            "Downloading macro.csv.zip to /content\n",
            "  0% 0.00/66.5k [00:00<?, ?B/s]\n",
            "100% 66.5k/66.5k [00:00<00:00, 57.1MB/s]\n"
          ],
          "name": "stdout"
        }
      ]
    },
    {
      "cell_type": "code",
      "metadata": {
        "id": "Pr0POr0wJoVG",
        "colab_type": "code",
        "colab": {}
      },
      "source": [
        "import numpy as np\n",
        "import pandas as pd\n",
        "from pandas import Series, DataFrame\n",
        "import os\n",
        "import matplotlib.pyplot as plt\n",
        "get_ipython().magic('matplotlib inline')\n",
        "from sklearn.ensemble import RandomForestRegressor\n",
        "from sklearn.ensemble import RandomForestClassifier\n",
        "from sklearn.model_selection import cross_val_score\n",
        "from sklearn.preprocessing import LabelEncoder\n",
        "import matplotlib.pyplot as plt\n",
        "from scipy import stats"
      ],
      "execution_count": 0,
      "outputs": []
    },
    {
      "cell_type": "code",
      "metadata": {
        "id": "jrnq0JABJew8",
        "colab_type": "code",
        "outputId": "764a9fe4-4e6d-4cb6-acb9-9febb1905e90",
        "colab": {
          "base_uri": "https://localhost:8080/",
          "height": 289
        }
      },
      "source": [
        "!unzip \\*.zip\n"
      ],
      "execution_count": 0,
      "outputs": [
        {
          "output_type": "stream",
          "text": [
            "Archive:  test.csv.zip\n",
            "  inflating: test.csv                \n",
            "   creating: __MACOSX/\n",
            "  inflating: __MACOSX/._test.csv     \n",
            "\n",
            "Archive:  macro.csv.zip\n",
            "  inflating: macro.csv               \n",
            "\n",
            "Archive:  sample_submission.csv.zip\n",
            "  inflating: sample_submission.csv   \n",
            "\n",
            "Archive:  train.csv.zip\n",
            "  inflating: train.csv               \n",
            "  inflating: __MACOSX/._train.csv    \n",
            "\n",
            "4 archives were successfully processed.\n"
          ],
          "name": "stdout"
        }
      ]
    },
    {
      "cell_type": "code",
      "metadata": {
        "id": "VPGv6wtRJlWt",
        "colab_type": "code",
        "outputId": "2b224200-478d-4c04-ba77-c74f69101f8d",
        "colab": {
          "base_uri": "https://localhost:8080/",
          "height": 85
        }
      },
      "source": [
        "train = pd.read_csv('train.csv')\n",
        "test = pd.read_csv('test.csv')\n",
        "print(len(test))\n",
        "print(len(train))\n",
        "print(len(train.columns))\n",
        "print(len(test.columns))\n"
      ],
      "execution_count": 0,
      "outputs": [
        {
          "output_type": "stream",
          "text": [
            "7662\n",
            "30471\n",
            "292\n",
            "291\n"
          ],
          "name": "stdout"
        }
      ]
    },
    {
      "cell_type": "code",
      "metadata": {
        "id": "5B56Z7jMKKfn",
        "colab_type": "code",
        "outputId": "de006fe1-67ab-4ed7-fd04-79a36a4ab4c1",
        "colab": {
          "base_uri": "https://localhost:8080/",
          "height": 884
        }
      },
      "source": [
        "train.isna().sum()\n",
        "train.columns[train.isnull().any()].tolist()  # to get a list instead of an Index object\n"
      ],
      "execution_count": 0,
      "outputs": [
        {
          "output_type": "execute_result",
          "data": {
            "text/plain": [
              "['life_sq',\n",
              " 'floor',\n",
              " 'max_floor',\n",
              " 'material',\n",
              " 'build_year',\n",
              " 'num_room',\n",
              " 'kitch_sq',\n",
              " 'state',\n",
              " 'preschool_quota',\n",
              " 'school_quota',\n",
              " 'hospital_beds_raion',\n",
              " 'raion_build_count_with_material_info',\n",
              " 'build_count_block',\n",
              " 'build_count_wood',\n",
              " 'build_count_frame',\n",
              " 'build_count_brick',\n",
              " 'build_count_monolith',\n",
              " 'build_count_panel',\n",
              " 'build_count_foam',\n",
              " 'build_count_slag',\n",
              " 'build_count_mix',\n",
              " 'raion_build_count_with_builddate_info',\n",
              " 'build_count_before_1920',\n",
              " 'build_count_1921-1945',\n",
              " 'build_count_1946-1970',\n",
              " 'build_count_1971-1995',\n",
              " 'build_count_after_1995',\n",
              " 'metro_min_walk',\n",
              " 'metro_km_walk',\n",
              " 'railroad_station_walk_km',\n",
              " 'railroad_station_walk_min',\n",
              " 'ID_railroad_station_walk',\n",
              " 'cafe_sum_500_min_price_avg',\n",
              " 'cafe_sum_500_max_price_avg',\n",
              " 'cafe_avg_price_500',\n",
              " 'cafe_sum_1000_min_price_avg',\n",
              " 'cafe_sum_1000_max_price_avg',\n",
              " 'cafe_avg_price_1000',\n",
              " 'cafe_sum_1500_min_price_avg',\n",
              " 'cafe_sum_1500_max_price_avg',\n",
              " 'cafe_avg_price_1500',\n",
              " 'cafe_sum_2000_min_price_avg',\n",
              " 'cafe_sum_2000_max_price_avg',\n",
              " 'cafe_avg_price_2000',\n",
              " 'cafe_sum_3000_min_price_avg',\n",
              " 'cafe_sum_3000_max_price_avg',\n",
              " 'cafe_avg_price_3000',\n",
              " 'prom_part_5000',\n",
              " 'cafe_sum_5000_min_price_avg',\n",
              " 'cafe_sum_5000_max_price_avg',\n",
              " 'cafe_avg_price_5000']"
            ]
          },
          "metadata": {
            "tags": []
          },
          "execution_count": 5
        }
      ]
    },
    {
      "cell_type": "code",
      "metadata": {
        "id": "zwxtzdYKKWhb",
        "colab_type": "code",
        "outputId": "9aff6417-1c74-4964-c3db-eb600845275c",
        "colab": {
          "base_uri": "https://localhost:8080/",
          "height": 833
        }
      },
      "source": [
        "test.isna().sum()\n",
        "test.columns[test.isnull().any()].tolist()  # to get a list instead of an Index object\n"
      ],
      "execution_count": 0,
      "outputs": [
        {
          "output_type": "execute_result",
          "data": {
            "text/plain": [
              "['life_sq',\n",
              " 'build_year',\n",
              " 'state',\n",
              " 'product_type',\n",
              " 'preschool_quota',\n",
              " 'school_quota',\n",
              " 'hospital_beds_raion',\n",
              " 'raion_build_count_with_material_info',\n",
              " 'build_count_block',\n",
              " 'build_count_wood',\n",
              " 'build_count_frame',\n",
              " 'build_count_brick',\n",
              " 'build_count_monolith',\n",
              " 'build_count_panel',\n",
              " 'build_count_foam',\n",
              " 'build_count_slag',\n",
              " 'build_count_mix',\n",
              " 'raion_build_count_with_builddate_info',\n",
              " 'build_count_before_1920',\n",
              " 'build_count_1921-1945',\n",
              " 'build_count_1946-1970',\n",
              " 'build_count_1971-1995',\n",
              " 'build_count_after_1995',\n",
              " 'metro_min_walk',\n",
              " 'metro_km_walk',\n",
              " 'railroad_station_walk_km',\n",
              " 'railroad_station_walk_min',\n",
              " 'ID_railroad_station_walk',\n",
              " 'cafe_sum_500_min_price_avg',\n",
              " 'cafe_sum_500_max_price_avg',\n",
              " 'cafe_avg_price_500',\n",
              " 'cafe_sum_1000_min_price_avg',\n",
              " 'cafe_sum_1000_max_price_avg',\n",
              " 'cafe_avg_price_1000',\n",
              " 'cafe_sum_1500_min_price_avg',\n",
              " 'cafe_sum_1500_max_price_avg',\n",
              " 'cafe_avg_price_1500',\n",
              " 'green_part_2000',\n",
              " 'cafe_sum_2000_min_price_avg',\n",
              " 'cafe_sum_2000_max_price_avg',\n",
              " 'cafe_avg_price_2000',\n",
              " 'cafe_sum_3000_min_price_avg',\n",
              " 'cafe_sum_3000_max_price_avg',\n",
              " 'cafe_avg_price_3000',\n",
              " 'prom_part_5000',\n",
              " 'cafe_sum_5000_min_price_avg',\n",
              " 'cafe_sum_5000_max_price_avg',\n",
              " 'cafe_avg_price_5000']"
            ]
          },
          "metadata": {
            "tags": []
          },
          "execution_count": 6
        }
      ]
    },
    {
      "cell_type": "code",
      "metadata": {
        "id": "G4utdTApKjl1",
        "colab_type": "code",
        "colab": {}
      },
      "source": [
        "for i in train.columns:\n",
        "    if train[i].dtype == 'object':\n",
        "      train[i] = train[i].fillna(train[i].mode().iloc[0])\n",
        "    if (train[i].dtype == 'int' or train[i].dtype == 'float'):\n",
        "      train[i] = train[i].fillna(np.mean(train[i]))\n"
      ],
      "execution_count": 0,
      "outputs": []
    },
    {
      "cell_type": "code",
      "metadata": {
        "id": "ZBceroaRKnr5",
        "colab_type": "code",
        "colab": {}
      },
      "source": [
        "for i in test.columns:\n",
        "    if test[i].dtype == 'object':\n",
        "      test[i] = test[i].fillna(test[i].mode().iloc[0])\n",
        "    if (test[i].dtype == 'int' or test[i].dtype == 'float'):\n",
        "      test[i] = test[i].fillna(np.mean(test[i]))\n"
      ],
      "execution_count": 0,
      "outputs": []
    },
    {
      "cell_type": "code",
      "metadata": {
        "id": "XZrJyyDmKsw3",
        "colab_type": "code",
        "colab": {}
      },
      "source": [
        "number = LabelEncoder()\n",
        "for i in train.columns:\n",
        "    if (train[i].dtype == 'object'):\n",
        "      train[i] = number.fit_transform(train[i].astype('str'))\n",
        "      train[i] = train[i].astype('object')\n",
        "\n"
      ],
      "execution_count": 0,
      "outputs": []
    },
    {
      "cell_type": "code",
      "metadata": {
        "id": "MJS6F2qOKyuj",
        "colab_type": "code",
        "colab": {}
      },
      "source": [
        "for i in test.columns:\n",
        "    if (test[i].dtype == 'object'):\n",
        "      test[i] = number.fit_transform(test[i].astype('str'))\n",
        "      test[i] = test[i].astype('object')\n",
        "\n"
      ],
      "execution_count": 0,
      "outputs": []
    },
    {
      "cell_type": "code",
      "metadata": {
        "id": "e3jnI_JgLCly",
        "colab_type": "code",
        "colab": {}
      },
      "source": [
        "train['sour'] = 0\n",
        "test['sour'] = 1\n",
        "training = train.drop('price_doc',axis=1) #droping target variable\n",
        "\n"
      ],
      "execution_count": 0,
      "outputs": []
    },
    {
      "cell_type": "code",
      "metadata": {
        "id": "bImnGDusLGFA",
        "colab_type": "code",
        "colab": {}
      },
      "source": [
        "train_rand = training.sample(6672, random_state=12)\n",
        "test_rand = test.sample(6000, random_state=11)\n",
        "\n"
      ],
      "execution_count": 0,
      "outputs": []
    },
    {
      "cell_type": "code",
      "metadata": {
        "id": "W-U5by1NLKYz",
        "colab_type": "code",
        "colab": {}
      },
      "source": [
        "concat = training.append(test_rand)\n",
        "y = concat['sour']\n",
        "concat.drop('sour',axis=1,inplace=True)\n"
      ],
      "execution_count": 0,
      "outputs": []
    },
    {
      "cell_type": "code",
      "metadata": {
        "id": "BbFfjWNuLOuR",
        "colab_type": "code",
        "outputId": "47ae3fa2-e213-44bb-cee7-4cb238d91c87",
        "colab": {
          "base_uri": "https://localhost:8080/",
          "height": 136
        }
      },
      "source": [
        "model = RandomForestClassifier(n_estimators = 50, max_depth = 5,min_samples_leaf = 5)\n",
        "drop_list = []\n",
        "for i in concat.columns:\n",
        "    score = cross_val_score(model,pd.DataFrame(concat[i]),y,cv=2,scoring='roc_auc')\n",
        "    if (np.mean(score) > 0.8):\n",
        "        drop_list.append(i)\n",
        "        print(i,np.mean(score))\n",
        "\n"
      ],
      "execution_count": 0,
      "outputs": [
        {
          "output_type": "stream",
          "text": [
            "id 0.8750902527075812\n",
            "timestamp 0.87009385665529\n",
            "life_sq 0.8122976336977504\n",
            "hospital_beds_raion 0.8821282532454628\n",
            "cafe_sum_500_min_price_avg 0.8366837320857025\n",
            "cafe_sum_500_max_price_avg 0.833971673398588\n",
            "cafe_avg_price_500 0.8363793385350433\n"
          ],
          "name": "stdout"
        }
      ]
    },
    {
      "cell_type": "code",
      "metadata": {
        "id": "2cJb1c3-MTY-",
        "colab_type": "code",
        "outputId": "a3d7b259-30c9-4fa6-8759-8d4c22a3b4d0",
        "colab": {
          "base_uri": "https://localhost:8080/",
          "height": 296
        }
      },
      "source": [
        "import seaborn as sns\n",
        "\n",
        "sns.distplot(train_rand['timestamp'])\n",
        "sns.distplot(test_rand['timestamp'])\n"
      ],
      "execution_count": 0,
      "outputs": [
        {
          "output_type": "execute_result",
          "data": {
            "text/plain": [
              "<matplotlib.axes._subplots.AxesSubplot at 0x7fe6be2cfba8>"
            ]
          },
          "metadata": {
            "tags": []
          },
          "execution_count": 16
        },
        {
          "output_type": "display_data",
          "data": {
            "image/png": "[encoded data removed]",
            "text/plain": [
              "<Figure size 432x288 with 1 Axes>"
            ]
          },
          "metadata": {
            "tags": []
          }
        }
      ]
    },
    {
      "cell_type": "code",
      "metadata": {
        "id": "oSSMw59FMwL3",
        "colab_type": "code",
        "outputId": "7469148a-2e7d-473c-fe50-c6b8800080f0",
        "colab": {
          "base_uri": "https://localhost:8080/",
          "height": 297
        }
      },
      "source": [
        "sns.distplot(train_rand['life_sq'])\n",
        "sns.distplot(test_rand['life_sq'])"
      ],
      "execution_count": 0,
      "outputs": [
        {
          "output_type": "execute_result",
          "data": {
            "text/plain": [
              "<matplotlib.axes._subplots.AxesSubplot at 0x7fe6bdacb9b0>"
            ]
          },
          "metadata": {
            "tags": []
          },
          "execution_count": 17
        },
        {
          "output_type": "display_data",
          "data": {
            "image/png": "[encoded data removed]",
            "text/plain": [
              "<Figure size 432x288 with 1 Axes>"
            ]
          },
          "metadata": {
            "tags": []
          }
        }
      ]
    },
    {
      "cell_type": "code",
      "metadata": {
        "id": "SYUNYfm6MzMd",
        "colab_type": "code",
        "outputId": "3fc999ef-5f34-402b-9d49-f5d7b2f71b17",
        "colab": {
          "base_uri": "https://localhost:8080/",
          "height": 296
        }
      },
      "source": [
        ""
      ],
      "execution_count": 0,
      "outputs": [
        {
          "output_type": "execute_result",
          "data": {
            "text/plain": [
              "<matplotlib.axes._subplots.AxesSubplot at 0x7f15046535f8>"
            ]
          },
          "metadata": {
            "tags": []
          },
          "execution_count": 21
        },
        {
          "output_type": "display_data",
          "data": {
            "image/png": "[encoded data removed]",
            "text/plain": [
              "<Figure size 432x288 with 1 Axes>"
            ]
          },
          "metadata": {
            "tags": []
          }
        }
      ]
    },
    {
      "cell_type": "code",
      "metadata": {
        "id": "28FHIdNfMzPk",
        "colab_type": "code",
        "outputId": "cec981db-3805-40f4-cb10-6aaf342c24cd",
        "colab": {
          "base_uri": "https://localhost:8080/",
          "height": 297
        }
      },
      "source": [
        "sns.distplot(train_rand['hospital_beds_raion'])\n",
        "sns.distplot(test_rand['hospital_beds_raion'])"
      ],
      "execution_count": 0,
      "outputs": [
        {
          "output_type": "execute_result",
          "data": {
            "text/plain": [
              "<matplotlib.axes._subplots.AxesSubplot at 0x7f15044c8390>"
            ]
          },
          "metadata": {
            "tags": []
          },
          "execution_count": 22
        },
        {
          "output_type": "display_data",
          "data": {
            "image/png": "[encoded data removed]",
            "text/plain": [
              "<Figure size 432x288 with 1 Axes>"
            ]
          },
          "metadata": {
            "tags": []
          }
        }
      ]
    },
    {
      "cell_type": "code",
      "metadata": {
        "id": "H_Wq44PSMzUH",
        "colab_type": "code",
        "outputId": "9cd2ed39-ee0a-4a15-f36f-872c8d9642cf",
        "colab": {
          "base_uri": "https://localhost:8080/",
          "height": 298
        }
      },
      "source": [
        "sns.distplot(train_rand['cafe_sum_500_min_price_avg'])\n",
        "sns.distplot(test_rand['cafe_sum_500_min_price_avg'])"
      ],
      "execution_count": 0,
      "outputs": [
        {
          "output_type": "execute_result",
          "data": {
            "text/plain": [
              "<matplotlib.axes._subplots.AxesSubplot at 0x7f15042d7438>"
            ]
          },
          "metadata": {
            "tags": []
          },
          "execution_count": 23
        },
        {
          "output_type": "display_data",
          "data": {
            "image/png": "[encoded data removed]",
            "text/plain": [
              "<Figure size 432x288 with 1 Axes>"
            ]
          },
          "metadata": {
            "tags": []
          }
        }
      ]
    },
    {
      "cell_type": "code",
      "metadata": {
        "id": "CKn7b09HMzZN",
        "colab_type": "code",
        "outputId": "ab3aa7df-d509-40e7-f1f8-01a9722684c6",
        "colab": {
          "base_uri": "https://localhost:8080/",
          "height": 297
        }
      },
      "source": [
        "sns.distplot(train_rand['cafe_sum_500_max_price_avg'])\n",
        "sns.distplot(test_rand['cafe_sum_500_max_price_avg'])"
      ],
      "execution_count": 0,
      "outputs": [
        {
          "output_type": "execute_result",
          "data": {
            "text/plain": [
              "<matplotlib.axes._subplots.AxesSubplot at 0x7f1503eab9e8>"
            ]
          },
          "metadata": {
            "tags": []
          },
          "execution_count": 27
        },
        {
          "output_type": "display_data",
          "data": {
            "image/png": "[encoded data removed]",
            "text/plain": [
              "<Figure size 432x288 with 1 Axes>"
            ]
          },
          "metadata": {
            "tags": []
          }
        }
      ]
    },
    {
      "cell_type": "code",
      "metadata": {
        "id": "UoZ7rokRMzXR",
        "colab_type": "code",
        "outputId": "42770dd9-1495-4e48-b3ef-fcc03097a907",
        "colab": {
          "base_uri": "https://localhost:8080/",
          "height": 297
        }
      },
      "source": [
        "sns.distplot(train_rand['cafe_sum_500_max_price_avg'])\n",
        "sns.distplot(test_rand['cafe_sum_500_max_price_avg'])"
      ],
      "execution_count": 0,
      "outputs": [
        {
          "output_type": "execute_result",
          "data": {
            "text/plain": [
              "<matplotlib.axes._subplots.AxesSubplot at 0x7f1503e32c18>"
            ]
          },
          "metadata": {
            "tags": []
          },
          "execution_count": 28
        },
        {
          "output_type": "display_data",
          "data": {
            "image/png": "[encoded data removed]",
            "text/plain": [
              "<Figure size 432x288 with 1 Axes>"
            ]
          },
          "metadata": {
            "tags": []
          }
        }
      ]
    },
    {
      "cell_type": "code",
      "metadata": {
        "id": "LgXxgfzxMzSJ",
        "colab_type": "code",
        "outputId": "1b946f00-96d8-46a3-a14d-c099ba4e6c25",
        "colab": {
          "base_uri": "https://localhost:8080/",
          "height": 297
        }
      },
      "source": [
        "sns.distplot(train_rand['cafe_avg_price_500'])\n",
        "sns.distplot(test_rand['cafe_avg_price_500'])"
      ],
      "execution_count": 0,
      "outputs": [
        {
          "output_type": "execute_result",
          "data": {
            "text/plain": [
              "<matplotlib.axes._subplots.AxesSubplot at 0x7f1503bc8898>"
            ]
          },
          "metadata": {
            "tags": []
          },
          "execution_count": 29
        },
        {
          "output_type": "display_data",
          "data": {
            "image/png": "[encoded data removed]",
            "text/plain": [
              "<Figure size 432x288 with 1 Axes>"
            ]
          },
          "metadata": {
            "tags": []
          }
        }
      ]
    },
    {
      "cell_type": "code",
      "metadata": {
        "id": "BJ5pxfFqOhyv",
        "colab_type": "code",
        "colab": {}
      },
      "source": [
        "def boostrap_mean(sample,n_iterations):\n",
        "  import random \n",
        "  \n",
        "  data_mean11=np.array([])\n",
        "  for i in range(n_iterations):\n",
        "    sample1=np.random.choice(sample,size=5)\n",
        "    data_mean1=np.mean(sample1)\n",
        "    data_mean11=np.append(data_mean11,data_mean1)\n",
        "  data_mean=np.mean(data_mean11)  \n",
        "  \n",
        "  lower=np.percentile(data_mean11,5)\n",
        "  upper=np.percentile(data_mean11,95)\n",
        "  return data_mean,lower,upper"
      ],
      "execution_count": 0,
      "outputs": []
    },
    {
      "cell_type": "code",
      "metadata": {
        "id": "10xSZJ3VQcol",
        "colab_type": "code",
        "colab": {}
      },
      "source": [
        ""
      ],
      "execution_count": 0,
      "outputs": []
    },
    {
      "cell_type": "code",
      "metadata": {
        "id": "R2THAp45Oo-P",
        "colab_type": "code",
        "outputId": "5e7bae7f-7082-4172-c972-1646b0a87cef",
        "colab": {
          "base_uri": "https://localhost:8080/",
          "height": 386
        }
      },
      "source": [
        "boots = []\n",
        "for i in range(100, 100000, 1000):\n",
        "    boot = boostrap_mean(train['life_sq'], i)\n",
        "    boots.append([i, boot[0], \"mean\"])\n",
        "    boots.append([i, boot[1], \"lower\"])\n",
        "    boots.append([i, boot[2], \"upper\"])\n",
        "\n",
        "df_boot = pd.DataFrame(boots, columns=['Boostrap Iterations', 'Mean', \"Value\"])\n",
        "sns_plot = sns.lmplot(df_boot.columns[0], df_boot.columns[1], data=df_boot, fit_reg=False, hue=\"Value\")\n",
        "\n",
        "sns_plot.axes[0, 0].set_ylim(0,)\n",
        "sns_plot.axes[0, 0].set_xlim(0, 100000)"
      ],
      "execution_count": 0,
      "outputs": [
        {
          "output_type": "execute_result",
          "data": {
            "text/plain": [
              "(0, 100000)"
            ]
          },
          "metadata": {
            "tags": []
          },
          "execution_count": 19
        },
        {
          "output_type": "display_data",
          "data": {
            "image/png": "[encoded data removed]",
            "text/plain": [
              "<Figure size 425.125x360 with 1 Axes>"
            ]
          },
          "metadata": {
            "tags": []
          }
        }
      ]
    },
    {
      "cell_type": "code",
      "metadata": {
        "id": "_QYBfLw1Qdys",
        "colab_type": "code",
        "outputId": "c7746a20-6a98-4c18-e1f7-41ace4718ac6",
        "colab": {
          "base_uri": "https://localhost:8080/",
          "height": 386
        }
      },
      "source": [
        "boots = []\n",
        "for i in range(100, 100000, 1000):\n",
        "    boot = boostrap_mean(test['life_sq'], i)\n",
        "    boots.append([i, boot[0], \"mean\"])\n",
        "    boots.append([i, boot[1], \"lower\"])\n",
        "    boots.append([i, boot[2], \"upper\"])\n",
        "\n",
        "df_boot = pd.DataFrame(boots, columns=['Boostrap Iterations', 'Mean', \"Value\"])\n",
        "sns_plot = sns.lmplot(df_boot.columns[0], df_boot.columns[1], data=df_boot, fit_reg=False, hue=\"Value\")\n",
        "\n",
        "sns_plot.axes[0, 0].set_ylim(0,)\n",
        "sns_plot.axes[0, 0].set_xlim(0, 100000)"
      ],
      "execution_count": 0,
      "outputs": [
        {
          "output_type": "execute_result",
          "data": {
            "text/plain": [
              "(0, 100000)"
            ]
          },
          "metadata": {
            "tags": []
          },
          "execution_count": 20
        },
        {
          "output_type": "display_data",
          "data": {
            "image/png": "[encoded data removed]",
            "text/plain": [
              "<Figure size 425.125x360 with 1 Axes>"
            ]
          },
          "metadata": {
            "tags": []
          }
        }
      ]
    },
    {
      "cell_type": "code",
      "metadata": {
        "id": "zy5KUe16Qug-",
        "colab_type": "code",
        "colab": {}
      },
      "source": [
        "def boostrap_mean1(sample,n_iterations):\n",
        "  import random \n",
        "  \n",
        "  data_mean11=np.array([])\n",
        "  for i in range(n_iterations):\n",
        "    sample1=np.random.choice(sample,size=5)\n",
        "    data_mean1=np.mean(sample1)\n",
        "    data_mean11=np.append(data_mean11,data_mean1)\n",
        " \n",
        "  \n",
        "  lower=np.percentile(data_mean11,5)\n",
        "  upper=np.percentile(data_mean11,95)\n",
        "  data_mean1=data_mean11[(data_mean11>lower) & (data_mean11<upper)]  \n",
        "  data_mean=np.mean(data_mean1) \n",
        "  print(data_mean)\n",
        " \n",
        "  return data_mean"
      ],
      "execution_count": 0,
      "outputs": []
    },
    {
      "cell_type": "code",
      "metadata": {
        "id": "i-yyrwOHQymT",
        "colab_type": "code",
        "outputId": "761ec9a0-9db2-4ca7-8c3f-40e3a49a9a8e",
        "colab": {
          "base_uri": "https://localhost:8080/",
          "height": 34
        }
      },
      "source": [
        "mean1=boostrap_mean1(train['life_sq'], 10000 )"
      ],
      "execution_count": 0,
      "outputs": [
        {
          "output_type": "stream",
          "text": [
            "33.63395438822944\n"
          ],
          "name": "stdout"
        }
      ]
    },
    {
      "cell_type": "code",
      "metadata": {
        "id": "0jLEOH9TQ1Q9",
        "colab_type": "code",
        "outputId": "5e578f51-20b8-442c-aada-63bff1fad857",
        "colab": {
          "base_uri": "https://localhost:8080/",
          "height": 34
        }
      },
      "source": [
        "mean2=boostrap_mean1(test['life_sq'],10000 )\n"
      ],
      "execution_count": 0,
      "outputs": [
        {
          "output_type": "stream",
          "text": [
            "32.06796696539105\n"
          ],
          "name": "stdout"
        }
      ]
    },
    {
      "cell_type": "code",
      "metadata": {
        "id": "DQfOv9U1Q5SP",
        "colab_type": "code",
        "outputId": "63a95bef-1c05-49e2-b5cf-b71756d0b94c",
        "colab": {
          "base_uri": "https://localhost:8080/",
          "height": 34
        }
      },
      "source": [
        "T_obs=mean1-mean2\n",
        "print(T_obs)\n"
      ],
      "execution_count": 0,
      "outputs": [
        {
          "output_type": "stream",
          "text": [
            "1.5659874228383899\n"
          ],
          "name": "stdout"
        }
      ]
    },
    {
      "cell_type": "code",
      "metadata": {
        "id": "tTl_-74QQ5qt",
        "colab_type": "code",
        "outputId": "f3b97bda-452a-40bd-8e4a-f9e6e5de065f",
        "colab": {
          "base_uri": "https://localhost:8080/",
          "height": 34
        }
      },
      "source": [
        "data1=train['life_sq']\n",
        "data2=test['life_sq']\n",
        "new_data=np.concatenate([data1,data2])\n",
        "count=0\n",
        "for i in range(20000):\n",
        "  dat1=np.random.choice(new_data,7000)\n",
        "  dat2=np.random.choice(new_data,6000)\n",
        "  mean_dat1=np.mean(dat1)\n",
        "  mean_dat2=np.mean(dat2)\n",
        "  T_perm= mean_dat2-mean_dat1\n",
        "  if T_perm>T_obs:\n",
        "    count=count+1\n",
        "p_value=count/20000\n",
        "print(p_value)\n"
      ],
      "execution_count": 0,
      "outputs": [
        {
          "output_type": "stream",
          "text": [
            "0.0267\n"
          ],
          "name": "stdout"
        }
      ]
    }
  ]
}