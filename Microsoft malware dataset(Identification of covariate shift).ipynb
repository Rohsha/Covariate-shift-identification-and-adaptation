{
  "nbformat": 4,
  "nbformat_minor": 0,
  "metadata": {
    "colab": {
      "name": "Untitled5.ipynb",
      "provenance": [],
      "collapsed_sections": [],
      "machine_shape": "hm",
      "authorship_tag": "ABX9TyP7yQAWvJAYQGvUG8JbCjsN",
      "include_colab_link": true
    },
    "kernelspec": {
      "name": "python3",
      "display_name": "Python 3"
    },
    "accelerator": "TPU"
  },
  "cells": [
    {
      "cell_type": "markdown",
      "metadata": {
        "id": "view-in-github",
        "colab_type": "text"
      },
      "source": [
        "<a href=\"https://colab.research.google.com/github/Rohsha/Datascience/blob/master/Microsoft%20malware%20dataset1.ipynb\" target=\"_parent\"><img src=\"https://colab.research.google.com/assets/colab-badge.svg\" alt=\"Open In Colab\"/></a>"
      ]
    },
    {
      "cell_type": "code",
      "metadata": {
        "id": "ryK4yPuFJnD9",
        "colab_type": "code",
        "outputId": "17e62ded-3d30-49c7-ecae-0f8f034647fd",
        "colab": {
          "base_uri": "https://localhost:8080/",
          "height": 187
        }
      },
      "source": [
        "import os\n",
        "\n",
        "os.environ['KAGGLE_USERNAME'] = \"rohinisubramaniam\" # username from the json file\n",
        "\n",
        "os.environ['KAGGLE_KEY'] = \"22aa1922fcaa2f5e066336187cf441b4\" # key from the json file\n",
        "\n",
        "!kaggle competitions download -c microsoft-malware-prediction\n"
      ],
      "execution_count": 1,
      "outputs": [
        {
          "output_type": "stream",
          "text": [
            "Warning: Looks like you're using an outdated API Version, please consider updating (server 1.5.6 / client 1.5.4)\n",
            "Downloading test.csv.zip to /content\n",
            " 99% 662M/672M [00:08<00:00, 56.6MB/s]\n",
            "100% 672M/672M [00:08<00:00, 80.2MB/s]\n",
            "Downloading train.csv.zip to /content\n",
            " 97% 745M/768M [00:12<00:00, 97.8MB/s]\n",
            "100% 768M/768M [00:12<00:00, 66.5MB/s]\n",
            "Downloading sample_submission.csv.zip to /content\n",
            " 84% 113M/134M [00:03<00:00, 29.0MB/s]\n",
            "100% 134M/134M [00:03<00:00, 35.9MB/s]\n"
          ],
          "name": "stdout"
        }
      ]
    },
    {
      "cell_type": "code",
      "metadata": {
        "id": "CLrAdLgCMzzo",
        "colab_type": "code",
        "colab": {}
      },
      "source": [
        ""
      ],
      "execution_count": 0,
      "outputs": []
    },
    {
      "cell_type": "code",
      "metadata": {
        "id": "k7JzxG4gK7zf",
        "colab_type": "code",
        "colab": {}
      },
      "source": [
        "import numpy as np\n",
        "import pandas as pd\n",
        "from pandas import Series, DataFrame\n",
        "import os\n",
        "import matplotlib.pyplot as plt\n",
        "get_ipython().magic('matplotlib inline')\n",
        "from sklearn.ensemble import RandomForestRegressor\n",
        "from sklearn.ensemble import RandomForestClassifier\n",
        "from sklearn.model_selection import cross_val_score\n",
        "from sklearn.preprocessing import LabelEncoder\n",
        "import matplotlib.pyplot as plt\n",
        "from scipy import stats"
      ],
      "execution_count": 0,
      "outputs": []
    },
    {
      "cell_type": "code",
      "metadata": {
        "id": "AeSbeH2OMqwp",
        "colab_type": "code",
        "outputId": "9b17d636-64d6-4f90-c305-fe81a50eec46",
        "colab": {
          "base_uri": "https://localhost:8080/",
          "height": 204
        }
      },
      "source": [
        ""
      ],
      "execution_count": 0,
      "outputs": [
        {
          "output_type": "stream",
          "text": [
            "Requirement already satisfied: kaggle in /usr/local/lib/python3.6/dist-packages (1.5.6)\n",
            "Requirement already satisfied: requests in /usr/local/lib/python3.6/dist-packages (from kaggle) (2.21.0)\n",
            "Requirement already satisfied: tqdm in /usr/local/lib/python3.6/dist-packages (from kaggle) (4.28.1)\n",
            "Requirement already satisfied: six>=1.10 in /usr/local/lib/python3.6/dist-packages (from kaggle) (1.12.0)\n",
            "Requirement already satisfied: python-slugify in /usr/local/lib/python3.6/dist-packages (from kaggle) (4.0.0)\n",
            "Requirement already satisfied: python-dateutil in /usr/local/lib/python3.6/dist-packages (from kaggle) (2.6.1)\n",
            "Requirement already satisfied: certifi in /usr/local/lib/python3.6/dist-packages (from kaggle) (2019.11.28)\n",
            "Requirement already satisfied: urllib3<1.25,>=1.21.1 in /usr/local/lib/python3.6/dist-packages (from kaggle) (1.24.3)\n",
            "Requirement already satisfied: idna<2.9,>=2.5 in /usr/local/lib/python3.6/dist-packages (from requests->kaggle) (2.8)\n",
            "Requirement already satisfied: chardet<3.1.0,>=3.0.2 in /usr/local/lib/python3.6/dist-packages (from requests->kaggle) (3.0.4)\n",
            "Requirement already satisfied: text-unidecode>=1.3 in /usr/local/lib/python3.6/dist-packages (from python-slugify->kaggle) (1.3)\n"
          ],
          "name": "stdout"
        }
      ]
    },
    {
      "cell_type": "code",
      "metadata": {
        "id": "Ankrm9i6M_PZ",
        "colab_type": "code",
        "colab": {}
      },
      "source": [
        ""
      ],
      "execution_count": 0,
      "outputs": []
    },
    {
      "cell_type": "code",
      "metadata": {
        "id": "Iz1DILTjNGzH",
        "colab_type": "code",
        "colab": {}
      },
      "source": [
        ""
      ],
      "execution_count": 0,
      "outputs": []
    },
    {
      "cell_type": "code",
      "metadata": {
        "id": "EkHFH-rqN6qv",
        "colab_type": "code",
        "colab": {}
      },
      "source": [
        ""
      ],
      "execution_count": 0,
      "outputs": []
    },
    {
      "cell_type": "markdown",
      "metadata": {
        "id": "1w66CroeOBni",
        "colab_type": "text"
      },
      "source": [
        ""
      ]
    },
    {
      "cell_type": "code",
      "metadata": {
        "id": "TBQpDYkAO5Oy",
        "colab_type": "code",
        "outputId": "0d020968-3080-4284-dbb2-825c3ef19eed",
        "colab": {
          "base_uri": "https://localhost:8080/",
          "height": 187
        }
      },
      "source": [
        "!unzip \\*.zip\n"
      ],
      "execution_count": 3,
      "outputs": [
        {
          "output_type": "stream",
          "text": [
            "Archive:  sample_submission.csv.zip\n",
            "  inflating: sample_submission.csv   \n",
            "\n",
            "Archive:  train.csv.zip\n",
            "  inflating: train.csv               \n",
            "\n",
            "Archive:  test.csv.zip\n",
            "  inflating: test.csv                \n",
            "\n",
            "3 archives were successfully processed.\n"
          ],
          "name": "stdout"
        }
      ]
    },
    {
      "cell_type": "code",
      "metadata": {
        "id": "zGDd1EUmPiPB",
        "colab_type": "code",
        "outputId": "3c73c582-0d8f-44b3-a06c-61adb73f20c7",
        "colab": {
          "base_uri": "https://localhost:8080/",
          "height": 71
        }
      },
      "source": [
        "import pandas as pd\n",
        "train = pd.read_csv('train.csv')\n",
        "test=pd.read_csv('test.csv')"
      ],
      "execution_count": 6,
      "outputs": [
        {
          "output_type": "stream",
          "text": [
            "/usr/local/lib/python3.6/dist-packages/IPython/core/interactiveshell.py:2718: DtypeWarning: Columns (28) have mixed types. Specify dtype option on import or set low_memory=False.\n",
            "  interactivity=interactivity, compiler=compiler, result=result)\n"
          ],
          "name": "stderr"
        }
      ]
    },
    {
      "cell_type": "code",
      "metadata": {
        "id": "42uvYfAcSU8z",
        "colab_type": "code",
        "outputId": "e17cf8ec-2e8e-4170-9140-16b872b8485b",
        "colab": {
          "base_uri": "https://localhost:8080/",
          "height": 51
        }
      },
      "source": [
        "train.head()\n",
        "print(len(train))\n",
        "print(len(test))"
      ],
      "execution_count": 7,
      "outputs": [
        {
          "output_type": "stream",
          "text": [
            "8921483\n",
            "7853253\n"
          ],
          "name": "stdout"
        }
      ]
    },
    {
      "cell_type": "code",
      "metadata": {
        "id": "2B5EXA7i50oT",
        "colab_type": "code",
        "outputId": "b7b6b881-2e5f-4812-d6d0-43436483b278",
        "colab": {
          "base_uri": "https://localhost:8080/",
          "height": 765
        }
      },
      "source": [
        "train.isna().sum()\n",
        "train.columns[train.isnull().any()].tolist()  # to get a list instead of an Index object\n"
      ],
      "execution_count": 8,
      "outputs": [
        {
          "output_type": "execute_result",
          "data": {
            "text/plain": [
              "['RtpStateBitfield',\n",
              " 'DefaultBrowsersIdentifier',\n",
              " 'AVProductStatesIdentifier',\n",
              " 'AVProductsInstalled',\n",
              " 'AVProductsEnabled',\n",
              " 'CityIdentifier',\n",
              " 'OrganizationIdentifier',\n",
              " 'GeoNameIdentifier',\n",
              " 'OsBuildLab',\n",
              " 'IsProtected',\n",
              " 'PuaMode',\n",
              " 'SMode',\n",
              " 'IeVerIdentifier',\n",
              " 'SmartScreen',\n",
              " 'Firewall',\n",
              " 'UacLuaenable',\n",
              " 'Census_OEMNameIdentifier',\n",
              " 'Census_OEMModelIdentifier',\n",
              " 'Census_ProcessorCoreCount',\n",
              " 'Census_ProcessorManufacturerIdentifier',\n",
              " 'Census_ProcessorModelIdentifier',\n",
              " 'Census_ProcessorClass',\n",
              " 'Census_PrimaryDiskTotalCapacity',\n",
              " 'Census_PrimaryDiskTypeName',\n",
              " 'Census_SystemVolumeTotalCapacity',\n",
              " 'Census_TotalPhysicalRAM',\n",
              " 'Census_ChassisTypeName',\n",
              " 'Census_InternalPrimaryDiagonalDisplaySizeInInches',\n",
              " 'Census_InternalPrimaryDisplayResolutionHorizontal',\n",
              " 'Census_InternalPrimaryDisplayResolutionVertical',\n",
              " 'Census_PowerPlatformRoleName',\n",
              " 'Census_InternalBatteryType',\n",
              " 'Census_InternalBatteryNumberOfCharges',\n",
              " 'Census_OSInstallLanguageIdentifier',\n",
              " 'Census_IsFlightingInternal',\n",
              " 'Census_IsFlightsDisabled',\n",
              " 'Census_ThresholdOptIn',\n",
              " 'Census_FirmwareManufacturerIdentifier',\n",
              " 'Census_FirmwareVersionIdentifier',\n",
              " 'Census_IsWIMBootEnabled',\n",
              " 'Census_IsVirtualDevice',\n",
              " 'Census_IsAlwaysOnAlwaysConnectedCapable',\n",
              " 'Wdft_IsGamer',\n",
              " 'Wdft_RegionIdentifier']"
            ]
          },
          "metadata": {
            "tags": []
          },
          "execution_count": 8
        }
      ]
    },
    {
      "cell_type": "code",
      "metadata": {
        "id": "0BGPVFWN8dro",
        "colab_type": "code",
        "colab": {}
      },
      "source": [
        "for i in train.columns:\n",
        "    if train[i].dtype == 'object':\n",
        "      train[i] = train[i].fillna(train[i].mode().iloc[0])\n",
        "    if (train[i].dtype == 'int' or train[i].dtype == 'float'):\n",
        "      train[i] = train[i].fillna(np.mean(train[i]))\n"
      ],
      "execution_count": 0,
      "outputs": []
    },
    {
      "cell_type": "code",
      "metadata": {
        "id": "GUesVoya8iRT",
        "colab_type": "code",
        "colab": {}
      },
      "source": [
        "for i in test.columns:\n",
        "    if test[i].dtype == 'object':\n",
        "      test[i] = test[i].fillna(train[i].mode().iloc[0])\n",
        "    if (test[i].dtype == 'int' or test[i].dtype == 'float'):\n",
        "      test[i] = train[i].fillna(np.mean(train[i]))\n"
      ],
      "execution_count": 0,
      "outputs": []
    },
    {
      "cell_type": "code",
      "metadata": {
        "id": "Z1R72U9-8ldW",
        "colab_type": "code",
        "colab": {}
      },
      "source": [
        "number = LabelEncoder()\n",
        "for i in train.columns:\n",
        "    if (train[i].dtype == 'object'):\n",
        "      train[i] = number.fit_transform(train[i].astype('str'))\n",
        "      train[i] = train[i].astype('object')\n"
      ],
      "execution_count": 0,
      "outputs": []
    },
    {
      "cell_type": "code",
      "metadata": {
        "id": "e_w-phX38t7p",
        "colab_type": "code",
        "colab": {}
      },
      "source": [
        "for i in test.columns:\n",
        "    if (test[i].dtype == 'object'):\n",
        "      test[i] = number.fit_transform(test[i].astype('str'))\n",
        "      test[i] = test[i].astype('object')\n"
      ],
      "execution_count": 0,
      "outputs": []
    },
    {
      "cell_type": "code",
      "metadata": {
        "id": "FEq_XlW38xbz",
        "colab_type": "code",
        "colab": {}
      },
      "source": [
        "train['sour'] = 0\n",
        "test['sour'] = 1\n",
        "training = train.drop('HasDetections',axis=1) #droping target variable\n"
      ],
      "execution_count": 0,
      "outputs": []
    },
    {
      "cell_type": "code",
      "metadata": {
        "id": "2J_3uFcQ9gQk",
        "colab_type": "code",
        "colab": {}
      },
      "source": [
        "train_rand = training.sample(7000, random_state=12)\n",
        "test_rand = test.sample(6000, random_state=11)\n",
        "\n"
      ],
      "execution_count": 0,
      "outputs": []
    },
    {
      "cell_type": "code",
      "metadata": {
        "id": "ySWblB_h9vDL",
        "colab_type": "code",
        "colab": {}
      },
      "source": [
        "concat = train_rand.append(test_rand)\n",
        "y = concat['sour']\n",
        "concat.drop('sour',axis=1,inplace=True)\n"
      ],
      "execution_count": 0,
      "outputs": []
    },
    {
      "cell_type": "code",
      "metadata": {
        "id": "SiqznZrM91AF",
        "colab_type": "code",
        "outputId": "f353925c-f890-4fa3-ef4f-41609d8dd725",
        "colab": {
          "base_uri": "https://localhost:8080/",
          "height": 204
        }
      },
      "source": [
        "model = RandomForestClassifier(n_estimators = 50, max_depth = 5,min_samples_leaf = 5)\n",
        "drop_list = []\n",
        "for i in concat.columns:\n",
        "    score = cross_val_score(model,pd.DataFrame(concat[i]),y,cv=2,scoring='roc_auc')\n",
        "    if (np.mean(score) > 0.8):\n",
        "        drop_list.append(i)\n",
        "        print(i,np.mean(score))\n"
      ],
      "execution_count": 17,
      "outputs": [
        {
          "output_type": "stream",
          "text": [
            "EngineVersion 0.8714176904761904\n",
            "AppVersion 0.9929319761904762\n",
            "AvSigVersion 0.9526830476190475\n",
            "OsBuildLab 0.9790886428571428\n",
            "Census_ChassisTypeName 0.9986150476190476\n",
            "Census_InternalBatteryType 0.9997590952380953\n",
            "Census_OSVersion 0.8318750714285714\n",
            "Census_OSBranch 0.9054165714285713\n",
            "Census_OSEdition 0.9943423333333333\n",
            "Census_OSSkuName 0.8076904523809524\n",
            "Census_FlightRing 0.9832465714285714\n"
          ],
          "name": "stdout"
        }
      ]
    },
    {
      "cell_type": "code",
      "metadata": {
        "id": "Mm_RWHrCZ5X_",
        "colab_type": "code",
        "outputId": "1a7e5e0f-98ab-4ccc-c1f9-84ebfc62481f",
        "colab": {
          "base_uri": "https://localhost:8080/",
          "height": 1000
        }
      },
      "source": [
        "import seaborn as sns\n",
        "f, axes = plt.subplots(3,3, figsize=(20, 20), sharex=True)\n",
        "sns.distplot(train_rand['EngineVersion'],ax=axes[0, 0])\n",
        "sns.distplot(test_rand['EngineVersion'],ax=axes[0, 0])\n",
        "sns.distplot(train_rand['AppVersion'],ax=axes[0, 1])\n",
        "sns.distplot(test_rand['AppVersion'],ax=axes[0, 1])\n",
        "sns.distplot(train_rand['AvSigVersion'],ax=axes[0,2])\n",
        "sns.distplot(test_rand['AvSigVersion'],ax=axes[0,2])\n",
        "sns.distplot(train_rand['OsBuildLab'],ax=axes[1,0])\n",
        "sns.distplot(test_rand['OsBuildLab'],ax=axes[1,0])\n",
        "sns.distplot(train_rand['SmartScreen'],ax=axes[1,1])\n",
        "sns.distplot(test_rand['SmartScreen'],ax=axes[1,1])\n",
        "sns.distplot(train_rand['Census_MDC2FormFactor'],ax=axes[1,2])\n",
        "sns.distplot(test_rand['Census_MDC2FormFactor'],ax=axes[1,2])\n",
        "sns.distplot(train_rand['Census_ChassisTypeName'],ax=axes[2,0])\n",
        "sns.distplot(test_rand['Census_ChassisTypeName'],ax=axes[2,0])\n",
        "sns.distplot(train_rand['Census_InternalBatteryType'],ax=axes[2,1])\n",
        "sns.distplot(test_rand['Census_InternalBatteryType'],ax=axes[2,1])\n",
        "sns.distplot(train_rand['Census_OSVersion'],ax=axes[2,2])\n",
        "sns.distplot(test_rand['Census_OSVersion'],ax=axes[2,2])\n"
      ],
      "execution_count": 18,
      "outputs": [
        {
          "output_type": "execute_result",
          "data": {
            "text/plain": [
              "<matplotlib.axes._subplots.AxesSubplot at 0x7f5ecb70d438>"
            ]
          },
          "metadata": {
            "tags": []
          },
          "execution_count": 18
        },
        {
          "output_type": "display_data",
          "data": {
            "image/png": "[encoded data removed]",
            "text/plain": [
              "<Figure size 1440x1440 with 9 Axes>"
            ]
          },
          "metadata": {
            "tags": []
          }
        }
      ]
    },
    {
      "cell_type": "code",
      "metadata": {
        "id": "KfWyl6b2eaMC",
        "colab_type": "code",
        "outputId": "99301c25-9071-4b18-ff7d-d10103ddf505",
        "colab": {
          "base_uri": "https://localhost:8080/",
          "height": 296
        }
      },
      "source": [
        "sns.distplot(train_rand['AppVersion'])\n",
        "sns.distplot(test_rand['AppVersion'])\n"
      ],
      "execution_count": 0,
      "outputs": [
        {
          "output_type": "execute_result",
          "data": {
            "text/plain": [
              "<matplotlib.axes._subplots.AxesSubplot at 0x7f3e03c29898>"
            ]
          },
          "metadata": {
            "tags": []
          },
          "execution_count": 30
        },
        {
          "output_type": "display_data",
          "data": {
            "image/png": "[encoded data removed]",
            "text/plain": [
              "<Figure size 432x288 with 1 Axes>"
            ]
          },
          "metadata": {
            "tags": []
          }
        }
      ]
    },
    {
      "cell_type": "code",
      "metadata": {
        "id": "yuhPLXi5egEn",
        "colab_type": "code",
        "outputId": "1f37ba0d-5bed-4518-9385-71986f7cc4de",
        "colab": {
          "base_uri": "https://localhost:8080/",
          "height": 296
        }
      },
      "source": [
        "sns.distplot(train_rand['AvSigVersion'])\n",
        "sns.distplot(test_rand['AvSigVersion'])\n"
      ],
      "execution_count": 0,
      "outputs": [
        {
          "output_type": "execute_result",
          "data": {
            "text/plain": [
              "<matplotlib.axes._subplots.AxesSubplot at 0x7f3df62c1f98>"
            ]
          },
          "metadata": {
            "tags": []
          },
          "execution_count": 31
        },
        {
          "output_type": "display_data",
          "data": {
            "image/png": "[encoded data removed]",
            "text/plain": [
              "<Figure size 432x288 with 1 Axes>"
            ]
          },
          "metadata": {
            "tags": []
          }
        }
      ]
    },
    {
      "cell_type": "code",
      "metadata": {
        "id": "YzB7x_Tsbm_g",
        "colab_type": "code",
        "outputId": "5cd16e49-a3d8-480a-bd2a-66286d3d8b20",
        "colab": {
          "base_uri": "https://localhost:8080/",
          "height": 296
        }
      },
      "source": [
        "sns.distplot(train_rand['OsBuildLab'])\n",
        "sns.distplot(test_rand['OsBuildLab'])"
      ],
      "execution_count": 0,
      "outputs": [
        {
          "output_type": "execute_result",
          "data": {
            "text/plain": [
              "<matplotlib.axes._subplots.AxesSubplot at 0x7f3e0af0c588>"
            ]
          },
          "metadata": {
            "tags": []
          },
          "execution_count": 52
        },
        {
          "output_type": "display_data",
          "data": {
            "image/png": "[encoded data removed]",
            "text/plain": [
              "<Figure size 432x288 with 1 Axes>"
            ]
          },
          "metadata": {
            "tags": []
          }
        }
      ]
    },
    {
      "cell_type": "code",
      "metadata": {
        "id": "3V92xHdjerM4",
        "colab_type": "code",
        "outputId": "4e882bce-5517-4ecb-c44d-727dae1de47b",
        "colab": {
          "base_uri": "https://localhost:8080/",
          "height": 296
        }
      },
      "source": [
        "sns.distplot(train_rand['SmartScreen'])\n",
        "sns.distplot(test_rand['SmartScreen'])"
      ],
      "execution_count": 0,
      "outputs": [
        {
          "output_type": "execute_result",
          "data": {
            "text/plain": [
              "<matplotlib.axes._subplots.AxesSubplot at 0x7f3e0af6e278>"
            ]
          },
          "metadata": {
            "tags": []
          },
          "execution_count": 48
        },
        {
          "output_type": "display_data",
          "data": {
            "image/png": "[encoded data removed]",
            "text/plain": [
              "<Figure size 432x288 with 1 Axes>"
            ]
          },
          "metadata": {
            "tags": []
          }
        }
      ]
    },
    {
      "cell_type": "code",
      "metadata": {
        "id": "QKswYHlgerXm",
        "colab_type": "code",
        "outputId": "f6b94816-f22f-4dde-8d91-49a319bf4495",
        "colab": {
          "base_uri": "https://localhost:8080/",
          "height": 297
        }
      },
      "source": [
        "sns.distplot(train_rand['Census_MDC2FormFactor'])\n",
        "sns.distplot(test_rand['Census_MDC2FormFactor'])\n"
      ],
      "execution_count": 0,
      "outputs": [
        {
          "output_type": "execute_result",
          "data": {
            "text/plain": [
              "<matplotlib.axes._subplots.AxesSubplot at 0x7f3e0af0c358>"
            ]
          },
          "metadata": {
            "tags": []
          },
          "execution_count": 53
        },
        {
          "output_type": "display_data",
          "data": {
            "image/png": "[encoded data removed]",
            "text/plain": [
              "<Figure size 432x288 with 1 Axes>"
            ]
          },
          "metadata": {
            "tags": []
          }
        }
      ]
    },
    {
      "cell_type": "code",
      "metadata": {
        "id": "Lw3rSLjmeriH",
        "colab_type": "code",
        "outputId": "7c4b34f1-df38-4d2b-d00c-45c7233b535f",
        "colab": {
          "base_uri": "https://localhost:8080/",
          "height": 298
        }
      },
      "source": [
        "sns.distplot(train_rand['Census_ChassisTypeName'])\n",
        "sns.distplot(test_rand['Census_ChassisTypeName'])\n"
      ],
      "execution_count": 0,
      "outputs": [
        {
          "output_type": "execute_result",
          "data": {
            "text/plain": [
              "<matplotlib.axes._subplots.AxesSubplot at 0x7f3de6064550>"
            ]
          },
          "metadata": {
            "tags": []
          },
          "execution_count": 54
        },
        {
          "output_type": "display_data",
          "data": {
            "image/png": "[encoded data removed]",
            "text/plain": [
              "<Figure size 432x288 with 1 Axes>"
            ]
          },
          "metadata": {
            "tags": []
          }
        }
      ]
    },
    {
      "cell_type": "code",
      "metadata": {
        "id": "URUtvwGyerme",
        "colab_type": "code",
        "outputId": "356b2760-3f20-4c6d-803c-4f510198616b",
        "colab": {
          "base_uri": "https://localhost:8080/",
          "height": 297
        }
      },
      "source": [
        "sns.distplot(train_rand['Census_InternalBatteryType'])\n",
        "sns.distplot(test_rand['Census_InternalBatteryType'])\n"
      ],
      "execution_count": 0,
      "outputs": [
        {
          "output_type": "execute_result",
          "data": {
            "text/plain": [
              "<matplotlib.axes._subplots.AxesSubplot at 0x7f3decc67400>"
            ]
          },
          "metadata": {
            "tags": []
          },
          "execution_count": 55
        },
        {
          "output_type": "display_data",
          "data": {
            "image/png": "[encoded data removed]",
            "text/plain": [
              "<Figure size 432x288 with 1 Axes>"
            ]
          },
          "metadata": {
            "tags": []
          }
        }
      ]
    },
    {
      "cell_type": "code",
      "metadata": {
        "id": "FMGW85fLerqH",
        "colab_type": "code",
        "outputId": "452d9a34-58e0-4e6b-8b81-901b2ef81f58",
        "colab": {
          "base_uri": "https://localhost:8080/",
          "height": 297
        }
      },
      "source": [
        "sns.distplot(train_rand['Census_OSVersion'])\n",
        "sns.distplot(test_rand['Census_OSVersion'])\n"
      ],
      "execution_count": 0,
      "outputs": [
        {
          "output_type": "execute_result",
          "data": {
            "text/plain": [
              "<matplotlib.axes._subplots.AxesSubplot at 0x7f3e12310be0>"
            ]
          },
          "metadata": {
            "tags": []
          },
          "execution_count": 56
        },
        {
          "output_type": "display_data",
          "data": {
            "image/png": "[encoded data removed]",
            "text/plain": [
              "<Figure size 432x288 with 1 Axes>"
            ]
          },
          "metadata": {
            "tags": []
          }
        }
      ]
    },
    {
      "cell_type": "code",
      "metadata": {
        "id": "bZ4Zs2czkM9U",
        "colab_type": "code",
        "colab": {}
      },
      "source": [
        ""
      ],
      "execution_count": 0,
      "outputs": []
    },
    {
      "cell_type": "code",
      "metadata": {
        "id": "ew7ScysfM2kV",
        "colab_type": "code",
        "colab": {}
      },
      "source": [
        "def boostrap_mean(sample,n_iterations):\n",
        "  import random \n",
        "  \n",
        "  data_mean11=np.array([])\n",
        "  for i in range(n_iterations):\n",
        "    sample1=np.random.choice(sample,size=5)\n",
        "    data_mean1=np.mean(sample1)\n",
        "    data_mean11=np.append(data_mean11,data_mean1)\n",
        "  data_mean=np.mean(data_mean11)  \n",
        "  print (data_mean)\n",
        "  lower=np.percentile(data_mean11,5)\n",
        "  upper=np.percentile(data_mean11,95)\n",
        "  return data_mean,lower,upper"
      ],
      "execution_count": 0,
      "outputs": []
    },
    {
      "cell_type": "code",
      "metadata": {
        "id": "uRVBf7tmQQ3n",
        "colab_type": "code",
        "colab": {}
      },
      "source": [
        ""
      ],
      "execution_count": 0,
      "outputs": []
    },
    {
      "cell_type": "code",
      "metadata": {
        "id": "cwF3yHFCOrRd",
        "colab_type": "code",
        "colab": {
          "base_uri": "https://localhost:8080/",
          "height": 1000
        },
        "outputId": "c3a678cf-c4c0-4887-a025-12661185804b"
      },
      "source": [
        "\n",
        "boots = []\n",
        "for i in range(100, 100000, 1000):\n",
        "    boot = boostrap_mean(train['Census_InternalBatteryType'], i)\n",
        "    boots.append([i, boot[0], \"mean\"])\n",
        "    boots.append([i, boot[1], \"lower\"])\n",
        "    boots.append([i, boot[2], \"upper\"])\n",
        "\n",
        "df_boot = pd.DataFrame(boots, columns=['Boostrap Iterations', 'Mean', \"Value\"])\n",
        "sns_plot = sns.lmplot(df_boot.columns[0], df_boot.columns[1], data=df_boot, fit_reg=False, hue=\"Value\")\n",
        "\n",
        "sns_plot.axes[0, 0].set_ylim(0,)\n",
        "sns_plot.axes[0, 0].set_xlim(0, 100000)"
      ],
      "execution_count": 20,
      "outputs": [
        {
          "output_type": "stream",
          "text": [
            "50.73\n",
            "50.597454545454546\n",
            "50.81819047619047\n",
            "50.76361290322581\n",
            "50.80468292682927\n",
            "50.920352941176475\n",
            "50.84740983606557\n",
            "50.845098591549295\n",
            "50.80167901234567\n",
            "50.81534065934066\n",
            "50.795742574257424\n",
            "50.78464864864865\n",
            "50.81722314049586\n",
            "50.781893129770985\n",
            "50.81407092198581\n",
            "50.794423841059604\n",
            "50.784310559006215\n",
            "50.79997660818713\n",
            "50.82383425414364\n",
            "50.84160209424084\n",
            "50.80820895522388\n",
            "50.798862559241705\n",
            "50.777764705882355\n",
            "50.77563636363636\n",
            "50.82609958506224\n",
            "50.80655776892431\n",
            "50.784444444444446\n",
            "50.79041328413284\n",
            "50.80423487544484\n",
            "50.83221305841924\n",
            "50.80251162790698\n",
            "50.840514469453375\n",
            "50.795919003115266\n",
            "50.79734743202417\n",
            "50.81\n",
            "50.81296866096866\n",
            "50.804759002770076\n",
            "50.82030727762803\n",
            "50.831081364829394\n",
            "50.82484910485934\n",
            "50.826658354114706\n",
            "50.81597566909976\n",
            "50.82278384798099\n",
            "50.833573085846865\n",
            "50.809764172335605\n",
            "50.82254988913525\n",
            "50.80893275488069\n",
            "50.80072186836518\n",
            "50.80449480249481\n",
            "50.80867209775967\n",
            "50.79302594810378\n",
            "50.79945988258317\n",
            "50.80480998080614\n",
            "50.814290018832395\n",
            "50.79442883548983\n",
            "50.78785843920144\n",
            "50.796417112299466\n",
            "50.810847635726795\n",
            "50.81678829604131\n",
            "50.83419289340101\n",
            "50.79939434276206\n",
            "50.79275613747955\n",
            "50.810293075684385\n",
            "50.796554675118855\n",
            "50.79974102964118\n",
            "50.81535483870967\n",
            "50.79750680786687\n",
            "50.78886438152011\n",
            "50.83281350954479\n",
            "50.78661649782923\n",
            "50.811948644793155\n",
            "50.82536146272855\n",
            "50.79822468793343\n",
            "50.788309165526684\n",
            "50.800288798920384\n",
            "50.82038082556591\n",
            "50.80693035479632\n",
            "50.799047989623865\n",
            "50.81106786171574\n",
            "50.81056890012642\n",
            "50.80423220973783\n",
            "50.80405672009865\n",
            "50.793449451887945\n",
            "50.794267148014434\n",
            "50.81071819262783\n",
            "50.80165452408931\n",
            "50.79395354239257\n",
            "50.80486796785304\n",
            "50.799918274687855\n",
            "50.826433221099876\n",
            "50.823331853496114\n",
            "50.80984851811197\n",
            "50.81000868621064\n",
            "50.813016111707846\n",
            "50.80994473963868\n",
            "50.80989064143007\n",
            "50.78991467221644\n",
            "50.81875592173018\n",
            "50.80339653414883\n",
            "50.8064561049445\n"
          ],
          "name": "stdout"
        },
        {
          "output_type": "execute_result",
          "data": {
            "text/plain": [
              "(0, 100000)"
            ]
          },
          "metadata": {
            "tags": []
          },
          "execution_count": 20
        },
        {
          "output_type": "display_data",
          "data": {
            "image/png": "[encoded data removed]",
            "text/plain": [
              "<Figure size 425.125x360 with 1 Axes>"
            ]
          },
          "metadata": {
            "tags": []
          }
        }
      ]
    },
    {
      "cell_type": "code",
      "metadata": {
        "id": "TgqdiY0cQTAF",
        "colab_type": "code",
        "colab": {}
      },
      "source": [
        "def boostrap_mean(sample,n_iterations):\n",
        "  import random \n",
        "  \n",
        "  data_mean11=np.array([])\n",
        "  for i in range(n_iterations):\n",
        "    sample1=np.random.choice(sample,size=5)\n",
        "    data_mean1=np.mean(sample1)\n",
        "    data_mean11=np.append(data_mean11,data_mean1)\n",
        "  data_mean=np.mean(data_mean11)  \n",
        "  lower=np.percentile(data_mean11,5)\n",
        "  upper=np.percentile(data_mean11,95)\n",
        "  return data_mean,lower,upper"
      ],
      "execution_count": 0,
      "outputs": []
    },
    {
      "cell_type": "code",
      "metadata": {
        "id": "5zTFAR9sQZBN",
        "colab_type": "code",
        "outputId": "463dcd6f-4931-4e52-9a83-2f9bca2e81b8",
        "colab": {
          "base_uri": "https://localhost:8080/",
          "height": 1000
        }
      },
      "source": [
        "boots = []\n",
        "for i in range(100, 100000, 1000):\n",
        "    boot = boostrap_mean(test['Census_InternalBatteryType'], i)\n",
        "    boots.append([i, boot[0], \"mean\"])\n",
        "    boots.append([i, boot[1], \"lower\"])\n",
        "    boots.append([i, boot[2], \"upper\"])\n",
        "\n",
        "df_boot = pd.DataFrame(boots, columns=['Boostrap Iterations', 'Mean', \"Value\"])\n",
        "sns_plot = sns.lmplot(df_boot.columns[0], df_boot.columns[1], data=df_boot, fit_reg=False, hue=\"Value\")\n",
        "\n",
        "sns_plot.axes[0, 0].set_ylim(0,)\n",
        "sns_plot.axes[0, 0].set_xlim(0, 100000)"
      ],
      "execution_count": 0,
      "outputs": [
        {
          "output_type": "stream",
          "text": [
            "30.082000000000004\n",
            "30.20054545454546\n",
            "30.285809523809522\n",
            "30.239032258064515\n",
            "30.23848780487805\n",
            "30.31529411764706\n",
            "30.255737704918033\n",
            "30.250816901408452\n",
            "30.274864197530867\n",
            "30.254153846153844\n",
            "30.26095049504951\n",
            "30.244270270270274\n",
            "30.263752066115703\n",
            "30.25774045801527\n",
            "30.27402836879433\n",
            "30.2495761589404\n",
            "30.2640248447205\n",
            "30.244748538011695\n",
            "30.297325966850828\n",
            "30.2568167539267\n",
            "30.261293532338307\n",
            "30.26506161137441\n",
            "30.26542081447964\n",
            "30.25425108225108\n",
            "30.284506224066394\n",
            "30.259824701195218\n",
            "30.25739463601533\n",
            "30.279697416974166\n",
            "30.255423487544483\n",
            "30.284481099656357\n",
            "30.245421926910296\n",
            "30.26048231511254\n",
            "30.256429906542056\n",
            "30.267069486404832\n",
            "30.272733137829913\n",
            "30.245994301994305\n",
            "30.2636620498615\n",
            "30.254172506738545\n",
            "30.270141732283466\n",
            "30.27133503836317\n",
            "30.24650374064838\n",
            "30.24924087591241\n",
            "30.259220902612824\n",
            "30.27097447795824\n",
            "30.26531065759637\n",
            "30.242035476718403\n",
            "30.257605206073755\n",
            "30.264373673036093\n",
            "30.249247401247406\n",
            "30.27482281059064\n",
            "30.263261477045912\n",
            "30.26701369863014\n",
            "30.269673704414593\n",
            "30.258817325800376\n",
            "30.250425138632163\n",
            "30.265862068965518\n",
            "30.258445632798576\n",
            "30.272805604203157\n",
            "30.26520137693632\n",
            "30.253915397631136\n",
            "30.26332445923461\n",
            "30.262746317512274\n",
            "30.272000000000002\n",
            "30.264272583201272\n",
            "30.25972854914197\n",
            "30.267735791090626\n",
            "30.263222390317704\n",
            "30.253967213114755\n",
            "30.259806167400885\n",
            "30.26473806078148\n",
            "30.269560627674746\n",
            "30.255099859353024\n",
            "30.258130374479887\n",
            "30.260976744186053\n",
            "30.248388663967617\n",
            "30.256082556591217\n",
            "30.274551905387654\n",
            "30.251322957198443\n",
            "30.24827912932138\n",
            "30.260748419721875\n",
            "30.25182771535581\n",
            "30.26102836004932\n",
            "30.26505237515225\n",
            "30.261013237063782\n",
            "30.25601664684899\n",
            "30.26380258519389\n",
            "30.26286411149826\n",
            "30.25655797933409\n",
            "30.255303064699213\n",
            "30.26575308641976\n",
            "30.257556048834623\n",
            "30.26081888035126\n",
            "30.261261672095547\n",
            "30.24922878625135\n",
            "30.260928799149845\n",
            "30.25958780231336\n",
            "30.260876170655568\n",
            "30.246199794026776\n",
            "30.26802854230377\n",
            "30.265745711402626\n"
          ],
          "name": "stdout"
        },
        {
          "output_type": "execute_result",
          "data": {
            "text/plain": [
              "(0, 100000)"
            ]
          },
          "metadata": {
            "tags": []
          },
          "execution_count": 59
        },
        {
          "output_type": "display_data",
          "data": {
            "image/png": "[encoded data removed]",
            "text/plain": [
              "<Figure size 425.125x360 with 1 Axes>"
            ]
          },
          "metadata": {
            "tags": []
          }
        }
      ]
    },
    {
      "cell_type": "code",
      "metadata": {
        "id": "uuOzPLAqWzQ7",
        "colab_type": "code",
        "colab": {}
      },
      "source": [
        "def boostrap_mean1(sample,n_iterations):\n",
        "  import random \n",
        "  \n",
        "  data_mean11=np.array([])\n",
        "  for i in range(n_iterations):\n",
        "    sample1=np.random.choice(sample,size=5)\n",
        "    data_mean1=np.mean(sample1)\n",
        "    data_mean11=np.append(data_mean11,data_mean1)\n",
        " \n",
        "  \n",
        "  lower=np.percentile(data_mean11,5)\n",
        "  upper=np.percentile(data_mean11,95)\n",
        "  data_mean1=data_mean11[(data_mean11>lower) & (data_mean11<upper)]  \n",
        "  data_mean=np.mean(data_mean1) \n",
        "  print(data_mean)\n",
        " \n",
        "  return data_mean"
      ],
      "execution_count": 0,
      "outputs": []
    },
    {
      "cell_type": "code",
      "metadata": {
        "id": "dsILz1HnXfQp",
        "colab_type": "code",
        "outputId": "44cf6277-5642-40d3-e179-8363d8afb9e5",
        "colab": {
          "base_uri": "https://localhost:8080/",
          "height": 34
        }
      },
      "source": [
        "mean1=boostrap_mean1(train['Census_InternalBatteryType'], 10000 )"
      ],
      "execution_count": 0,
      "outputs": [
        {
          "output_type": "stream",
          "text": [
            "46.44329132690881\n"
          ],
          "name": "stdout"
        }
      ]
    },
    {
      "cell_type": "code",
      "metadata": {
        "id": "KQpcZbVHertt",
        "colab_type": "code",
        "outputId": "92570c87-e43a-42d8-f20d-fa898a46bfe5",
        "colab": {
          "base_uri": "https://localhost:8080/",
          "height": 34
        }
      },
      "source": [
        "mean2=boostrap_mean1(test['Census_InternalBatteryType'],10000 )\n"
      ],
      "execution_count": 0,
      "outputs": [
        {
          "output_type": "stream",
          "text": [
            "35.699653979238754\n"
          ],
          "name": "stdout"
        }
      ]
    },
    {
      "cell_type": "code",
      "metadata": {
        "id": "D4TJBUZgWeWL",
        "colab_type": "code",
        "outputId": "1e9585fe-5c69-4ce4-d83c-a64a930a6cad",
        "colab": {
          "base_uri": "https://localhost:8080/",
          "height": 34
        }
      },
      "source": [
        "T_obs=mean1-mean2\n",
        "print(T_obs)\n"
      ],
      "execution_count": 0,
      "outputs": [
        {
          "output_type": "stream",
          "text": [
            "10.74363734767006\n"
          ],
          "name": "stdout"
        }
      ]
    },
    {
      "cell_type": "code",
      "metadata": {
        "id": "hoTehDjv1Tl6",
        "colab_type": "code",
        "outputId": "d6ab8c17-f6f3-4e10-9741-0c41533ca511",
        "colab": {
          "base_uri": "https://localhost:8080/",
          "height": 34
        }
      },
      "source": [
        "data1=train['Census_InternalBatteryType']\n",
        "data2=test['Census_InternalBatteryType']\n",
        "new_data=np.concatenate([data1,data2])\n",
        "count=0\n",
        "for i in range(20000):\n",
        "  dat1=np.random.choice(new_data,7000)\n",
        "  dat2=np.random.choice(new_data,6000)\n",
        "  mean_dat1=np.mean(dat1)\n",
        "  mean_dat2=np.mean(dat2)\n",
        "  T_perm= mean_dat2-mean_dat1\n",
        "  if T_perm>T_obs:\n",
        "    count=count+1\n",
        "p_value=count/20000\n",
        "print(p_value)\n"
      ],
      "execution_count": 0,
      "outputs": [
        {
          "output_type": "stream",
          "text": [
            "0.0\n"
          ],
          "name": "stdout"
        }
      ]
    },
    {
      "cell_type": "code",
      "metadata": {
        "id": "lygqXs8G8YS5",
        "colab_type": "code",
        "colab": {}
      },
      "source": [
        "#since the p value is less than .05 we  reject the null hypotheses hence  mean of training is not equal to mean of testing"
      ],
      "execution_count": 0,
      "outputs": []
    },
    {
      "cell_type": "code",
      "metadata": {
        "id": "ZiwKKvhvDXw7",
        "colab_type": "code",
        "outputId": "b39dd069-a211-4963-a960-bd496bedb7e0",
        "colab": {
          "base_uri": "https://localhost:8080/",
          "height": 119
        }
      },
      "source": [
        ""
      ],
      "execution_count": 0,
      "outputs": [
        {
          "output_type": "stream",
          "text": [
            "Warning: Looks like you're using an outdated API Version, please consider updating (server 1.5.6 / client 1.5.4)\n",
            "data_dictionary.txt: Skipping, found more recently modified local copy (use --force to force download)\n",
            "test.csv.zip: Skipping, found more recently modified local copy (use --force to force download)\n",
            "sample_submission.csv.zip: Skipping, found more recently modified local copy (use --force to force download)\n",
            "macro.csv.zip: Skipping, found more recently modified local copy (use --force to force download)\n",
            "train.csv.zip: Skipping, found more recently modified local copy (use --force to force download)\n"
          ],
          "name": "stdout"
        }
      ]
    },
    {
      "cell_type": "code",
      "metadata": {
        "id": "NcqVC9_tsRpz",
        "colab_type": "code",
        "outputId": "b6b990f9-7bd5-4db9-8829-3bbed3cda67d",
        "colab": {
          "base_uri": "https://localhost:8080/",
          "height": 265
        }
      },
      "source": [
        "import matplotlib.pyplot as plt\n",
        "import numpy as np\n",
        "import scipy.stats as stats\n",
        "import math\n",
        "\n",
        "mu = 4\n",
        "variance = 1\n",
        "mu1=6\n",
        "variance2=1\n",
        "\n",
        "sigma = math.sqrt(variance)\n",
        "sigma1=math.sqrt(variance2)\n",
        "x = np.linspace(mu - 3*sigma, mu + 3*sigma, 100)\n",
        "y = np.linspace(mu1 - 3*sigma, mu1 + 3*sigma, 100)\n",
        "plt.figure(figsize=(4,4))\n",
        "\n",
        "plt.plot(x, stats.norm.pdf(x, mu, sigma))\n",
        "plt.plot(y, stats.norm.pdf(y, mu1, sigma))\n",
        "\n",
        "plt.show()\n"
      ],
      "execution_count": 0,
      "outputs": [
        {
          "output_type": "display_data",
          "data": {
            "image/png": "[encoded data removed]",
            "text/plain": [
              "<Figure size 288x288 with 1 Axes>"
            ]
          },
          "metadata": {
            "tags": []
          }
        }
      ]
    },
    {
      "cell_type": "code",
      "metadata": {
        "id": "phZoQ6L5DZcO",
        "colab_type": "code",
        "colab": {}
      },
      "source": [
        ""
      ],
      "execution_count": 0,
      "outputs": []
    }
  ]
}